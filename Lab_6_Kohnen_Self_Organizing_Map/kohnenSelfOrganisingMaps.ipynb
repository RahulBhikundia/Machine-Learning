{
 "cells": [
  {
   "cell_type": "markdown",
   "metadata": {},
   "source": [
    "# Kohnen Self Organizing Map"
   ]
  },
  {
   "cell_type": "markdown",
   "metadata": {},
   "source": [
    "Problem Statement: Using the Square of Euclidean Distance, find the cluster unit C(j) that is closest to the input vector (0.3,0.4). Using Learning Rate of 0.3, find the new weights for the winning cluster. Find the new weights of C(j-1) and C(j+1) (that is if they exist)."
   ]
  },
  {
   "cell_type": "code",
   "execution_count": 62,
   "metadata": {},
   "outputs": [],
   "source": [
    "# importing libraries\n",
    "import numpy as np"
   ]
  },
  {
   "cell_type": "code",
   "execution_count": 63,
   "metadata": {},
   "outputs": [
    {
     "name": "stdout",
     "output_type": "stream",
     "text": [
      "[[0.2 0.6 0.4 0.9 0.2]\n",
      " [0.3 0.5 0.7 0.6 0.8]]\n"
     ]
    }
   ],
   "source": [
    "# Creating Weight Matrix\n",
    "w = [[0.2,0.6,0.4,0.9,0.2],[0.3,0.5,0.7,0.6,0.8]]\n",
    "w = np.array(w)\n",
    "print(w)\n",
    "\n",
    "# creating list to hold vectors value\n",
    "x = [0.3,0.4]\n",
    "# Storing the value of the learning rate a\n",
    "a = 0.3"
   ]
  },
  {
   "cell_type": "code",
   "execution_count": 64,
   "metadata": {},
   "outputs": [
    {
     "name": "stdout",
     "output_type": "stream",
     "text": [
      "[0.02 0.1  0.1  0.4  0.17]\n"
     ]
    }
   ],
   "source": [
    "# Calculating Euclidean Distance for Each neuron from vectors\n",
    "d = np.array([0.0]*len(w[0]))\n",
    "\n",
    "for i in range(len(w)):\n",
    "    for j in range(len(w[0])):\n",
    "        d[j] += (w[i][j] - x[i])**2\n",
    "\n",
    "print(d)"
   ]
  },
  {
   "cell_type": "code",
   "execution_count": 65,
   "metadata": {},
   "outputs": [
    {
     "name": "stdout",
     "output_type": "stream",
     "text": [
      "Winning Cluster is C 1 with Euclidean Distance: 0.020000000000000004\n"
     ]
    }
   ],
   "source": [
    "# Finding the cluster with the minimum distance from the vectors\n",
    "minV = max(d)\n",
    "minI = 0\n",
    "\n",
    "for i in range(len(d)):\n",
    "    if(minV > d[i]):\n",
    "        minV = d[i]\n",
    "        minI = i + 1\n",
    "\n",
    "print(\"Winning Cluster is C\",minI,\"with Euclidean Distance:\",minV)"
   ]
  },
  {
   "cell_type": "code",
   "execution_count": 66,
   "metadata": {},
   "outputs": [
    {
     "name": "stdout",
     "output_type": "stream",
     "text": [
      "Updated Weight Matrix is as follow:\n",
      "[[0.23 0.51 0.4  0.9  0.2 ]\n",
      " [0.33 0.47 0.7  0.6  0.8 ]]\n"
     ]
    }
   ],
   "source": [
    "# Updating weight for the winning cluster and it's neighbourhood\n",
    "\n",
    "for i in range(len(w)):\n",
    "    for j in range(minI-2,minI+1):\n",
    "        if(j>=0 and j<len(w[0])):\n",
    "            w[i][j] = w[i][j] + a*(x[i] - w[i][j])\n",
    "\n",
    "print(\"Updated Weight Matrix is as follow:\")\n",
    "print(w)"
   ]
  }
 ],
 "metadata": {
  "kernelspec": {
   "display_name": "Python 3",
   "language": "python",
   "name": "python3"
  },
  "language_info": {
   "codemirror_mode": {
    "name": "ipython",
    "version": 3
   },
   "file_extension": ".py",
   "mimetype": "text/x-python",
   "name": "python",
   "nbconvert_exporter": "python",
   "pygments_lexer": "ipython3",
   "version": "3.12.0"
  }
 },
 "nbformat": 4,
 "nbformat_minor": 2
}
