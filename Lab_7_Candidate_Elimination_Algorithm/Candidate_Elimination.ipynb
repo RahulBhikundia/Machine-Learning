{
 "cells": [
  {
   "cell_type": "markdown",
   "metadata": {},
   "source": [
    "# Candidate Elimination Algorithm"
   ]
  },
  {
   "cell_type": "code",
   "execution_count": 31,
   "metadata": {},
   "outputs": [],
   "source": [
    "#importing necessary libraries\n",
    "import pandas as pd"
   ]
  },
  {
   "cell_type": "code",
   "execution_count": 32,
   "metadata": {},
   "outputs": [
    {
     "data": {
      "text/html": [
       "<div>\n",
       "<style scoped>\n",
       "    .dataframe tbody tr th:only-of-type {\n",
       "        vertical-align: middle;\n",
       "    }\n",
       "\n",
       "    .dataframe tbody tr th {\n",
       "        vertical-align: top;\n",
       "    }\n",
       "\n",
       "    .dataframe thead th {\n",
       "        text-align: right;\n",
       "    }\n",
       "</style>\n",
       "<table border=\"1\" class=\"dataframe\">\n",
       "  <thead>\n",
       "    <tr style=\"text-align: right;\">\n",
       "      <th></th>\n",
       "      <th>Sky</th>\n",
       "      <th>AirTemp</th>\n",
       "      <th>Humidity</th>\n",
       "      <th>Wind</th>\n",
       "      <th>Water</th>\n",
       "      <th>Forecast</th>\n",
       "      <th>Play</th>\n",
       "    </tr>\n",
       "  </thead>\n",
       "  <tbody>\n",
       "    <tr>\n",
       "      <th>0</th>\n",
       "      <td>Sunny</td>\n",
       "      <td>Warm</td>\n",
       "      <td>Normal</td>\n",
       "      <td>Strong</td>\n",
       "      <td>Warm</td>\n",
       "      <td>Same</td>\n",
       "      <td>Yes</td>\n",
       "    </tr>\n",
       "    <tr>\n",
       "      <th>1</th>\n",
       "      <td>Sunny</td>\n",
       "      <td>Warm</td>\n",
       "      <td>High</td>\n",
       "      <td>Strong</td>\n",
       "      <td>Warm</td>\n",
       "      <td>Same</td>\n",
       "      <td>Yes</td>\n",
       "    </tr>\n",
       "    <tr>\n",
       "      <th>2</th>\n",
       "      <td>Rainy</td>\n",
       "      <td>Cold</td>\n",
       "      <td>High</td>\n",
       "      <td>Strong</td>\n",
       "      <td>Warm</td>\n",
       "      <td>Change</td>\n",
       "      <td>No</td>\n",
       "    </tr>\n",
       "    <tr>\n",
       "      <th>3</th>\n",
       "      <td>Sunny</td>\n",
       "      <td>Warm</td>\n",
       "      <td>High</td>\n",
       "      <td>Strong</td>\n",
       "      <td>Cool</td>\n",
       "      <td>Change</td>\n",
       "      <td>Yes</td>\n",
       "    </tr>\n",
       "  </tbody>\n",
       "</table>\n",
       "</div>"
      ],
      "text/plain": [
       "     Sky AirTemp Humidity    Wind Water Forecast Play\n",
       "0  Sunny    Warm   Normal  Strong  Warm     Same  Yes\n",
       "1  Sunny    Warm     High  Strong  Warm     Same  Yes\n",
       "2  Rainy    Cold     High  Strong  Warm   Change   No\n",
       "3  Sunny    Warm     High  Strong  Cool   Change  Yes"
      ]
     },
     "execution_count": 32,
     "metadata": {},
     "output_type": "execute_result"
    }
   ],
   "source": [
    "# Reading data from CAE.csv dataset\n",
    "data = pd.read_csv(\"CAE.csv\")\n",
    "data"
   ]
  },
  {
   "cell_type": "code",
   "execution_count": 33,
   "metadata": {},
   "outputs": [
    {
     "name": "stdout",
     "output_type": "stream",
     "text": [
      "7\n"
     ]
    }
   ],
   "source": [
    "# Storing Number of Features\n",
    "feature = data.shape[1]\n",
    "print(feature)"
   ]
  },
  {
   "cell_type": "code",
   "execution_count": 34,
   "metadata": {},
   "outputs": [
    {
     "name": "stdout",
     "output_type": "stream",
     "text": [
      "S0: ['Φ', 'Φ', 'Φ', 'Φ', 'Φ', 'Φ']\n",
      "G0: [['?', '?', '?', '?', '?', '?'], ['?', '?', '?', '?', '?', '?'], ['?', '?', '?', '?', '?', '?'], ['?', '?', '?', '?', '?', '?'], ['?', '?', '?', '?', '?', '?'], ['?', '?', '?', '?', '?', '?']]\n"
     ]
    }
   ],
   "source": [
    "# Creating Initial General and Initial Specific Hypothesis\n",
    "specific = ['Φ']*(feature-1)\n",
    "general = [['?']*(feature-1) for _ in range(feature-1)]\n",
    "\n",
    "print(\"S0:\",specific)\n",
    "print(\"G0:\",general)"
   ]
  },
  {
   "cell_type": "code",
   "execution_count": 35,
   "metadata": {},
   "outputs": [],
   "source": [
    "# Creating a function to Print Hypothesis\n",
    "def printh(i,h,type):\n",
    "    if type == \"S\":\n",
    "        print(\"S\"+str(i)+\":\",h)\n",
    "    else:\n",
    "        print(\"G\"+str(i)+\":\",h)"
   ]
  },
  {
   "cell_type": "code",
   "execution_count": 36,
   "metadata": {},
   "outputs": [
    {
     "name": "stdout",
     "output_type": "stream",
     "text": [
      "Algorithm Steps are as Follow:\n",
      "For Instance 1 :\n",
      "S1: ['Sunny', 'Warm', 'Normal', 'Strong', 'Warm', 'Same']\n",
      "G1: [['?', '?', '?', '?', '?', '?'], ['?', '?', '?', '?', '?', '?'], ['?', '?', '?', '?', '?', '?'], ['?', '?', '?', '?', '?', '?'], ['?', '?', '?', '?', '?', '?'], ['?', '?', '?', '?', '?', '?']]\n",
      "For Instance 2 :\n",
      "S2: ['Sunny', 'Warm', '?', 'Strong', 'Warm', 'Same']\n",
      "G2: [['?', '?', '?', '?', '?', '?'], ['?', '?', '?', '?', '?', '?'], ['?', '?', '?', '?', '?', '?'], ['?', '?', '?', '?', '?', '?'], ['?', '?', '?', '?', '?', '?'], ['?', '?', '?', '?', '?', '?']]\n",
      "For Instance 3 :\n",
      "S3: ['Sunny', 'Warm', '?', 'Strong', 'Warm', 'Same']\n",
      "G3: [['Sunny', '?', '?', '?', '?', '?'], ['?', 'Warm', '?', '?', '?', '?'], ['?', '?', '?', '?', '?', '?'], ['?', '?', '?', '?', '?', '?'], ['?', '?', '?', '?', '?', '?'], ['?', '?', '?', '?', '?', 'Same']]\n",
      "For Instance 4 :\n",
      "S4: ['Sunny', 'Warm', '?', 'Strong', '?', '?']\n",
      "G4: [['Sunny', '?', '?', '?', '?', '?'], ['?', 'Warm', '?', '?', '?', '?'], ['?', '?', '?', '?', '?', '?'], ['?', '?', '?', '?', '?', '?'], ['?', '?', '?', '?', '?', '?'], ['?', '?', '?', '?', '?', 'Same']]\n"
     ]
    },
    {
     "name": "stderr",
     "output_type": "stream",
     "text": [
      "C:\\Users\\rahul\\AppData\\Local\\Temp\\ipykernel_30260\\2476744232.py:6: FutureWarning: Series.__getitem__ treating keys as positions is deprecated. In a future version, integer keys will always be treated as labels (consistent with DataFrame behavior). To access a value by position, use `ser.iloc[pos]`\n",
      "  if row[-1] == \"Yes\":\n"
     ]
    }
   ],
   "source": [
    "# Implementing Candidate Elimination\n",
    "count = 1\n",
    "\n",
    "print(\"Algorithm Steps are as Follow:\")\n",
    "for index, row in data.iterrows():\n",
    "    if row[-1] == \"Yes\":\n",
    "        for i, val in enumerate(row[:-1]):\n",
    "            if specific[i]=='Φ':\n",
    "                specific[i] = val\n",
    "            elif specific[i]!=val:\n",
    "                specific[i] = '?'\n",
    "    else:\n",
    "        for i, val in enumerate(row[:-1]):\n",
    "            if specific[i] != val:\n",
    "                general[i][i] = specific[i]\n",
    "    \n",
    "    print(\"For Instance\",count,\":\")\n",
    "    printh(count,specific,\"S\")\n",
    "    printh(count,general,\"G\")\n",
    "    count += 1"
   ]
  },
  {
   "cell_type": "code",
   "execution_count": 37,
   "metadata": {},
   "outputs": [
    {
     "name": "stdout",
     "output_type": "stream",
     "text": [
      "OUTPUT:\n",
      "Specific Hypothesis: ['Sunny', 'Warm', '?', 'Strong', '?', '?']\n",
      "General Hypothesis: [['Sunny', '?', '?', '?', '?', '?'], ['?', 'Warm', '?', '?', '?', '?'], ['?', '?', '?', '?', '?', 'Same']]\n"
     ]
    }
   ],
   "source": [
    "# At last, by synchronizing  the G4 and S4 algorithm produce the output.\n",
    "general = [l for l in general if l.count('?') != (feature-1)]\n",
    "\n",
    "print(\"OUTPUT:\")\n",
    "print(\"Specific Hypothesis:\",specific)\n",
    "print(\"General Hypothesis:\",general)"
   ]
  },
  {
   "cell_type": "code",
   "execution_count": null,
   "metadata": {},
   "outputs": [],
   "source": []
  }
 ],
 "metadata": {
  "kernelspec": {
   "display_name": "Python 3",
   "language": "python",
   "name": "python3"
  },
  "language_info": {
   "codemirror_mode": {
    "name": "ipython",
    "version": 3
   },
   "file_extension": ".py",
   "mimetype": "text/x-python",
   "name": "python",
   "nbconvert_exporter": "python",
   "pygments_lexer": "ipython3",
   "version": "3.12.0"
  }
 },
 "nbformat": 4,
 "nbformat_minor": 2
}
