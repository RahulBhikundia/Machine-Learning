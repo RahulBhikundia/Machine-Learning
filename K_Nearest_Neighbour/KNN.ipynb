{
 "cells": [
  {
   "cell_type": "markdown",
   "metadata": {},
   "source": [
    "## K - Nearest Neighbour\n",
    "* It is a lazy learning algorithm as computation is done after test dataset is taken\n",
    "* Creating Basic Implementation of KNN"
   ]
  },
  {
   "cell_type": "code",
   "execution_count": 3,
   "metadata": {},
   "outputs": [],
   "source": [
    "import numpy as np\n",
    "import pandas as pd\n",
    "import matplotlib.pyplot as plt "
   ]
  },
  {
   "cell_type": "code",
   "execution_count": 8,
   "metadata": {},
   "outputs": [
    {
     "name": "stdout",
     "output_type": "stream",
     "text": [
      "[[158 58 'M']\n",
      " [158 59 'M']\n",
      " [158 63 'M']\n",
      " [160 59 'M']\n",
      " [160 60 'M']\n",
      " [163 60 'M']\n",
      " [163 61 'M']\n",
      " [160 64 'L']\n",
      " [163 64 'L']\n",
      " [165 61 'L']\n",
      " [165 62 'L']\n",
      " [165 65 'L']\n",
      " [168 62 'L']\n",
      " [168 63 'L']\n",
      " [168 66 'L']\n",
      " [170 63 'L']\n",
      " [170 64 'L']\n",
      " [170 68 'L']]\n"
     ]
    }
   ],
   "source": [
    "df = np.array(pd.read_csv(\"./tshirt.csv\"))\n",
    "n = df.shape\n",
    "print(df)"
   ]
  },
  {
   "cell_type": "code",
   "execution_count": 11,
   "metadata": {},
   "outputs": [
    {
     "name": "stdout",
     "output_type": "stream",
     "text": [
      "[8.246211251235321 8.06225774829855 8.54400374531753 6.082762530298219 6.0\n",
      " 3.0 3.1622776601683795 7.211102550927978 5.0 1.4142135623730951\n",
      " 2.23606797749979 5.0990195135927845 2.8284271247461903 3.605551275463989\n",
      " 6.324555320336759 5.0 5.656854249492381 8.94427190999916]\n"
     ]
    }
   ],
   "source": [
    "d = np.zeros(n[0])\n",
    "\n",
    "# Taking Input Height(x) and Weight(y)\n",
    "x, y = 166, 60\n",
    "d = (np.subtract(df[:,0],x)**2 + np.subtract(df[:,1],y)**2)**0.5\n",
    "print(d)"
   ]
  },
  {
   "cell_type": "code",
   "execution_count": 15,
   "metadata": {},
   "outputs": [
    {
     "name": "stdout",
     "output_type": "stream",
     "text": [
      "M\n"
     ]
    }
   ],
   "source": [
    "marks = dict()\n",
    "for i,j in enumerate(d):\n",
    "    marks[j] = df[i,2]\n",
    "\n",
    "d.sort()\n",
    "\n",
    "# Taking Value of K\n",
    "k = 5\n",
    "\n",
    "count=0\n",
    "for i in range(k):\n",
    "    if(marks[d[i]]=='M'):\n",
    "        count+=1\n",
    "\n",
    "\n",
    "if count>=k/2:\n",
    "    print(\"M\")\n",
    "else:\n",
    "    print(\"L\")"
   ]
  },
  {
   "cell_type": "code",
   "execution_count": null,
   "metadata": {},
   "outputs": [],
   "source": []
  }
 ],
 "metadata": {
  "kernelspec": {
   "display_name": "Python 3",
   "language": "python",
   "name": "python3"
  },
  "language_info": {
   "codemirror_mode": {
    "name": "ipython",
    "version": 3
   },
   "file_extension": ".py",
   "mimetype": "text/x-python",
   "name": "python",
   "nbconvert_exporter": "python",
   "pygments_lexer": "ipython3",
   "version": "3.12.0"
  }
 },
 "nbformat": 4,
 "nbformat_minor": 2
}
